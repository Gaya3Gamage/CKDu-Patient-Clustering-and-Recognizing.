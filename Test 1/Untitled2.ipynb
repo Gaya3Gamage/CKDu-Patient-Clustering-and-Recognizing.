{
 "cells": [
  {
   "cell_type": "code",
   "execution_count": 3,
   "id": "59aef1e4",
   "metadata": {},
   "outputs": [
    {
     "name": "stdout",
     "output_type": "stream",
     "text": [
      "[2.]\n"
     ]
    }
   ],
   "source": [
    "import joblib\n",
    "model = joblib.load('knn_iris_model.sav')\n",
    "new_data= [[6.1,3.4,5.3,2.4]]\n",
    "result = model.predict(new_data)\n",
    "print(result)"
   ]
  },
  {
   "cell_type": "code",
   "execution_count": null,
   "id": "97914beb",
   "metadata": {},
   "outputs": [],
   "source": []
  }
 ],
 "metadata": {
  "kernelspec": {
   "display_name": "Python 3 (ipykernel)",
   "language": "python",
   "name": "python3"
  },
  "language_info": {
   "codemirror_mode": {
    "name": "ipython",
    "version": 3
   },
   "file_extension": ".py",
   "mimetype": "text/x-python",
   "name": "python",
   "nbconvert_exporter": "python",
   "pygments_lexer": "ipython3",
   "version": "3.10.9"
  }
 },
 "nbformat": 4,
 "nbformat_minor": 5
}
